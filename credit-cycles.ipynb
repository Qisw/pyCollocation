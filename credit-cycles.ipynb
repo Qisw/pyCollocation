{
 "metadata": {
  "name": "",
  "signature": "sha256:808e4e8724385c00d62e7673f0a189e82079c273e2b0fd9b2570fd7fc2a8e7bd"
 },
 "nbformat": 3,
 "nbformat_minor": 0,
 "worksheets": [
  {
   "cells": [
    {
     "cell_type": "code",
     "collapsed": false,
     "input": [
      "%matplotlib inline"
     ],
     "language": "python",
     "metadata": {},
     "outputs": [],
     "prompt_number": 211
    },
    {
     "cell_type": "code",
     "collapsed": false,
     "input": [
      "import matplotlib.pyplot as plt\n",
      "import numpy as np\n",
      "import sympy as sym\n",
      "import seaborn as sn\n",
      "\n",
      "import models\n",
      "import orthogonal_collocation"
     ],
     "language": "python",
     "metadata": {},
     "outputs": [],
     "prompt_number": 212
    },
    {
     "cell_type": "markdown",
     "metadata": {},
     "source": [
      "## The basic model: amplification and persistance"
     ]
    },
    {
     "cell_type": "code",
     "collapsed": false,
     "input": [
      "# define some variables\n",
      "t, k, K, B, u, q = sym.symbols('t, k, K, B, u, q')\n",
      "\n",
      "# define some parameters\n",
      "a, alpha, K_bar, m, R = sym.symbols('a, alpha, K_bar, m, R')\n",
      "\n",
      "# need to specify some production function for gatherers\n",
      "G = k**alpha\n",
      "mpk = sym.diff(G, k, 1)\n",
      "\n",
      "# basic model from Kiyotaki and Moore \"credit-cycles\" paper\n",
      "K_dot = (1 / u) * ((a + q) * K - R * B) - K\n",
      "B_dot = (1 / R) * q * K - B\n",
      "q_dot = (R - 1) * q - R * u\n",
      "u_dot = (1 / R) * mpk.subs({k: (1 / m) * (K_bar - K)}) - u\n",
      "\n",
      "rhs = {K: K_dot, B: B_dot, q: q_dot, u: u_dot}"
     ],
     "language": "python",
     "metadata": {},
     "outputs": [],
     "prompt_number": 340
    },
    {
     "cell_type": "code",
     "collapsed": false,
     "input": [
      "u_dot"
     ],
     "language": "python",
     "metadata": {},
     "outputs": [
      {
       "metadata": {},
       "output_type": "pyout",
       "prompt_number": 629,
       "text": [
        "-u + alpha*m*((-K + K_bar)/m)**alpha/(R*(-K + K_bar))"
       ]
      }
     ],
     "prompt_number": 629
    },
    {
     "cell_type": "code",
     "collapsed": false,
     "input": [
      "bcs = {}\n",
      "\n",
      "# initial conditions for K and B are given\n",
      "K0, B0 = 5.0, 0.0\n",
      "bcs['lower'] = [K - K0, B - B0]"
     ],
     "language": "python",
     "metadata": {},
     "outputs": [],
     "prompt_number": 1019
    },
    {
     "cell_type": "code",
     "collapsed": false,
     "input": [
      "# boundary conditions on q and u can be written in terms of steady state values\n",
      "bcs['upper'] = [q - ((R / (R - 1)) * a), u - a]"
     ],
     "language": "python",
     "metadata": {},
     "outputs": [],
     "prompt_number": 1059
    },
    {
     "cell_type": "code",
     "collapsed": false,
     "input": [
      "# set up the model and solver\n",
      "basic_model = models.BoundaryValueProblem(dependent_vars=[K, B, q, u],\n",
      "                                          independent_var=t,\n",
      "                                          rhs=rhs,\n",
      "                                          boundary_conditions=bcs)\n",
      "\n",
      "params = {'a': 1.0, 'm': 1.0, 'alpha': 0.33, 'R': 1.05, 'K_bar': 10}\n",
      "\n",
      "basic_model_solver = orthogonal_collocation.OrthogonalCollocationSolver(basic_model, params)"
     ],
     "language": "python",
     "metadata": {},
     "outputs": [],
     "prompt_number": 1060
    },
    {
     "cell_type": "code",
     "collapsed": false,
     "input": [
      "char = basic_model.jacobian.charpoly?"
     ],
     "language": "python",
     "metadata": {},
     "outputs": [],
     "prompt_number": 1061
    },
    {
     "cell_type": "code",
     "collapsed": false,
     "input": [
      "char = basic_model.jacobian.charpoly"
     ],
     "language": "python",
     "metadata": {},
     "outputs": []
    },
    {
     "cell_type": "code",
     "collapsed": false,
     "input": [
      "char = basic_model.jacobian.charpoly"
     ],
     "language": "python",
     "metadata": {},
     "outputs": []
    },
    {
     "cell_type": "code",
     "collapsed": false,
     "input": [
      "lamda = sym.Symbol('lamda')\n",
      "char = basic_model.jacobian.charpoly(lamda)"
     ],
     "language": "python",
     "metadata": {},
     "outputs": [],
     "prompt_number": 887
    },
    {
     "cell_type": "code",
     "collapsed": false,
     "input": [
      "char.all_coeffs()[0]"
     ],
     "language": "python",
     "metadata": {},
     "outputs": [
      {
       "metadata": {},
       "output_type": "pyout",
       "prompt_number": 891,
       "text": [
        "1"
       ]
      }
     ],
     "prompt_number": 891
    },
    {
     "cell_type": "code",
     "collapsed": false,
     "input": [
      "char.all_coeffs()[1]"
     ],
     "language": "python",
     "metadata": {},
     "outputs": [
      {
       "metadata": {},
       "output_type": "pyout",
       "prompt_number": 892,
       "text": [
        "(-a - q + u*(-R + 4))/u"
       ]
      }
     ],
     "prompt_number": 892
    },
    {
     "cell_type": "code",
     "collapsed": false,
     "input": [
      "char.all_coeffs()[2]"
     ],
     "language": "python",
     "metadata": {},
     "outputs": [
      {
       "metadata": {},
       "output_type": "pyout",
       "prompt_number": 893,
       "text": [
        "(R*u**2*(K - K_bar)**2*(-R + 4) - R*u*(K - K_bar)**2*(2*a + q + (R - 1)*(-a - q + 2*u)) + alpha*m*((-K + K_bar)/m)**alpha*(alpha - 1)*(B*R - K*(a + q)))/(R*u**2*(K - K_bar)**2)"
       ]
      }
     ],
     "prompt_number": 893
    },
    {
     "cell_type": "code",
     "collapsed": false,
     "input": [
      "char.all_coeffs()[3]"
     ],
     "language": "python",
     "metadata": {},
     "outputs": [
      {
       "metadata": {},
       "output_type": "pyout",
       "prompt_number": 894,
       "text": [
        "(R*u**3*(K - K_bar)**2 - R*u**2*(K - K_bar)**2*(a + (R - 1)*(-a + u) + (R - 1)*(-a - q + 2*u)) - alpha*m*((-K + K_bar)/m)**alpha*(alpha - 1)*(B*R - K*(a + q))*(a + q + u*(R - 3)) - alpha*m*((-K + K_bar)/m)**alpha*(alpha - 1)*(K*R*u**2 + (B*R - K*(a + q))*(-a - q + u)))/(R*u**3*(K - K_bar)**2)"
       ]
      }
     ],
     "prompt_number": 894
    },
    {
     "cell_type": "code",
     "collapsed": false,
     "input": [
      "# specify an initial guess\n",
      "def Kstar(a, m, alpha, R, K_bar):\n",
      "    return K_bar - m * (alpha / (a * R))**(1 / (1 - alpha))\n",
      "\n",
      "def Bstar(a, m, alpha, R, K_bar):\n",
      "    return (a / (R - 1)) * Kstar(a, m, alpha, R, K_bar)\n",
      "\n",
      "domain = [0, 200]\n",
      "ts = np.linspace(domain[0], domain[1], 1000)\n",
      "Ks = Kstar(**params) - (Kstar(**params) - K0) * np.exp(-ts) #* np.cos(2.0 * np.pi * ts)\n",
      "initial_capital_poly = np.polynomial.Chebyshev.fit(ts, Ks, 25, domain)\n",
      "\n",
      "Bs = Bstar(**params) - (Bstar(**params) - B0) * np.exp(-ts) #* np.cos(2.0 * np.pi * ts)\n",
      "initial_debt_poly = np.polynomial.Chebyshev.fit(ts, Bs, 25, domain)\n",
      "\n",
      "us = (params['alpha'] / params['R']) * ((1 / params['m']) * (params['K_bar'] - Ks))**(params['alpha'] - 1)\n",
      "initial_user_cost_poly = np.polynomial.Chebyshev.fit(ts, us, 25, domain)\n",
      "\n",
      "qs = Ks\n",
      "initial_land_price_poly = np.polynomial.Chebyshev.fit(ts, qs, 25, domain)\n",
      "\n",
      "initial_coefs = {K: initial_capital_poly.coef, B: initial_debt_poly.coef,\n",
      "                 u: initial_user_cost_poly.coef, q: initial_land_price_poly.coef}"
     ],
     "language": "python",
     "metadata": {},
     "outputs": [],
     "prompt_number": 1062
    },
    {
     "cell_type": "code",
     "collapsed": false,
     "input": [
      "plt.plot(ts, initial_capital_poly(ts))\n",
      "plt.show()"
     ],
     "language": "python",
     "metadata": {},
     "outputs": [
      {
       "metadata": {},
       "output_type": "display_data",
       "png": "[encoded data removed]",
       "text": [
        "<matplotlib.figure.Figure at 0x13fbbb0d0>"
       ]
      }
     ],
     "prompt_number": 1063
    },
    {
     "cell_type": "code",
     "collapsed": false,
     "input": [
      "plt.plot(ts, initial_user_cost_poly(ts))\n",
      "plt.show()"
     ],
     "language": "python",
     "metadata": {},
     "outputs": [
      {
       "metadata": {},
       "output_type": "display_data",
       "png": "[encoded data removed]",
       "text": [
        "<matplotlib.figure.Figure at 0x1401e59d0>"
       ]
      }
     ],
     "prompt_number": 1064
    },
    {
     "cell_type": "code",
     "collapsed": false,
     "input": [
      "basic_model_solution = basic_model_solver.solve(kind=\"Chebyshev\",\n",
      "                                                coefs_dict=initial_coefs,\n",
      "                                                domain=domain)\n"
     ],
     "language": "python",
     "metadata": {},
     "outputs": [],
     "prompt_number": 1065
    },
    {
     "cell_type": "code",
     "collapsed": false,
     "input": [
      "basic_model_solution.success"
     ],
     "language": "python",
     "metadata": {},
     "outputs": [
      {
       "metadata": {},
       "output_type": "pyout",
       "prompt_number": 1066,
       "text": [
        "False"
       ]
      }
     ],
     "prompt_number": 1066
    },
    {
     "cell_type": "code",
     "collapsed": false,
     "input": [
      "basic_model_solution.number_knots = 1000\n",
      "basic_model_solution.solution.plot(subplots=True, style=['r', 'b'])"
     ],
     "language": "python",
     "metadata": {},
     "outputs": [
      {
       "metadata": {},
       "output_type": "pyout",
       "prompt_number": 1067,
       "text": [
        "array([<matplotlib.axes._subplots.AxesSubplot object at 0x140d61b10>,\n",
        "       <matplotlib.axes._subplots.AxesSubplot object at 0x137106c90>,\n",
        "       <matplotlib.axes._subplots.AxesSubplot object at 0x1384c5f10>,\n",
        "       <matplotlib.axes._subplots.AxesSubplot object at 0x1239bfe10>], dtype=object)"
       ]
      },
      {
       "metadata": {},
       "output_type": "display_data",
       "png": "[encoded data removed]",
       "text": [
        "<matplotlib.figure.Figure at 0x140d844d0>"
       ]
      }
     ],
     "prompt_number": 1067
    },
    {
     "cell_type": "code",
     "collapsed": false,
     "input": [
      "basic_model_solution.residuals.plot(subplots=True, style=['r', 'b'])\n"
     ],
     "language": "python",
     "metadata": {},
     "outputs": [
      {
       "metadata": {},
       "output_type": "pyout",
       "prompt_number": 1058,
       "text": [
        "array([<matplotlib.axes._subplots.AxesSubplot object at 0x13e972450>,\n",
        "       <matplotlib.axes._subplots.AxesSubplot object at 0x13743cdd0>,\n",
        "       <matplotlib.axes._subplots.AxesSubplot object at 0x13f89a910>,\n",
        "       <matplotlib.axes._subplots.AxesSubplot object at 0x140f09e10>], dtype=object)"
       ]
      },
      {
       "metadata": {},
       "output_type": "display_data",
       "png": "[encoded data removed]",
       "text": [
        "<matplotlib.figure.Figure at 0x140890110>"
       ]
      }
     ],
     "prompt_number": 1058
    },
    {
     "cell_type": "code",
     "collapsed": false,
     "input": [
      "from quantecon import ivp"
     ],
     "language": "python",
     "metadata": {},
     "outputs": [],
     "prompt_number": 677
    },
    {
     "cell_type": "code",
     "collapsed": false,
     "input": [
      "def credit_cycles(t, X, a, m, alpha, R, K_bar):\n",
      "    out = np.array([(1 / X[3]) * ((a + X[2]) * X[0] - R * X[1]) - X[0], \n",
      "                    (1 / R) * X[2] * X[0] - X[1],\n",
      "                    (R - 1) * X[2] - R * X[3],\n",
      "                    (alpha / R) * ((1 / m) * (K_bar - X[0]))**(alpha - 1) - X[3]])\n",
      "    return out\n",
      "\n",
      "def jacobian(t, X, a, m, alpha, R, K_bar):\n",
      "    out = np.array([[((a + X[2]) / X[3]) - 1.0, -R / X[3], X[0] / X[3], -X[3]**(-2)],\n",
      "                    [(1 / R) * X[2], -1.0, (1 / R) * X[0], 0.0],\n",
      "                    [0.0, 0.0, R - 1, -R],\n",
      "                    [-(1 / m) * (alpha - 1) * (alpha / R) * ((1 / m) * (K_bar - X[0]))**(alpha - 2), 0.0, 0.0, -1.0]])\n",
      "    return out\n",
      "\n",
      "def Kstar(a, m, alpha, R, K_bar):\n",
      "    return K_bar - m * (alpha / (a * R))**(1 / (1 - alpha))\n",
      "\n",
      "def Bstar(a, m, alpha, R, K_bar):\n",
      "    return (a / (R - 1)) * Kstar(a, m, alpha, R, K_bar)\n"
     ],
     "language": "python",
     "metadata": {},
     "outputs": [],
     "prompt_number": 949
    },
    {
     "cell_type": "code",
     "collapsed": false,
     "input": [
      "initial_condition = np.array([Kstar(a, m, alpha, R, K_bar), Bstar(a, m, alpha, R, K_bar), (R / (R - 1)) * a, a])"
     ],
     "language": "python",
     "metadata": {},
     "outputs": [],
     "prompt_number": 1068
    },
    {
     "cell_type": "code",
     "collapsed": false,
     "input": [
      "initial_condition"
     ],
     "language": "python",
     "metadata": {},
     "outputs": [
      {
       "metadata": {},
       "output_type": "pyout",
       "prompt_number": 1069,
       "text": [
        "array([  9.99771401e+02,   1.04975997e+05,   1.06050000e+02,\n",
        "         1.05000000e+00])"
       ]
      }
     ],
     "prompt_number": 1069
    },
    {
     "cell_type": "code",
     "collapsed": false,
     "input": [
      "credit_cycles(0, initial_condition)"
     ],
     "language": "python",
     "metadata": {},
     "outputs": [
      {
       "metadata": {},
       "output_type": "pyout",
       "prompt_number": 901,
       "text": [
        "array([ -8.64019967e-12,   0.00000000e+00,   0.00000000e+00,\n",
        "        -9.88098492e-14])"
       ]
      }
     ],
     "prompt_number": 901
    },
    {
     "cell_type": "code",
     "collapsed": false,
     "input": [
      "jacobian(0, initial_condition)"
     ],
     "language": "python",
     "metadata": {},
     "outputs": [
      {
       "metadata": {},
       "output_type": "pyout",
       "prompt_number": 868,
       "text": [
        "array([[  1.01000000e+02,  -9.61904762e-01,   9.52163239e+02,\n",
        "         -9.07029478e-01],\n",
        "       [  1.05000000e+02,  -1.00000000e+00,   9.89872674e+02,\n",
        "          0.00000000e+00],\n",
        "       [  0.00000000e+00,   0.00000000e+00,   1.00000000e-02,\n",
        "         -1.01000000e+00],\n",
        "       [  2.15879931e+00,   0.00000000e+00,   0.00000000e+00,\n",
        "         -1.00000000e+00]])"
       ]
      }
     ],
     "prompt_number": 868
    },
    {
     "cell_type": "code",
     "collapsed": false,
     "input": [
      "from scipy import linalg"
     ],
     "language": "python",
     "metadata": {},
     "outputs": [],
     "prompt_number": 869
    },
    {
     "cell_type": "code",
     "collapsed": false,
     "input": [
      "from IPython.html.widgets import fixed, interact, FloatSliderWidget"
     ],
     "language": "python",
     "metadata": {},
     "outputs": [],
     "prompt_number": 902
    },
    {
     "cell_type": "code",
     "collapsed": false,
     "input": [
      "def eigenvalues(a=1.0, m=1.0, alpha=0.33, R=1.05, K_bar=10.0):\n",
      "    steady_state = np.array([Kstar(a, m, alpha, R, K_bar),\n",
      "                             Bstar(a, m, alpha, R, K_bar),\n",
      "                             (R / (R - 1)) * a,\n",
      "                             a])\n",
      "    vals, vecs = linalg.eig(jacobian(0, steady_state, a, m, alpha, R, K_bar))\n",
      "    print vals"
     ],
     "language": "python",
     "metadata": {},
     "outputs": [],
     "prompt_number": 1074
    },
    {
     "cell_type": "code",
     "collapsed": false,
     "input": [
      "interact(eigenvalues, a=(0.0, 1e3, 1e0), m=(0.0, 1e2, 1e-1), R=(0.0, 1e2, 1e-2), K_bar=(0.0, 1e3, 1e1))"
     ],
     "language": "python",
     "metadata": {},
     "outputs": [
      {
       "output_type": "stream",
       "stream": "stdout",
       "text": [
        "[  9.88748655e+01+0.j   1.01851410e+01+0.j  -1.00500164e+01+0.j\n",
        "   9.89097957e-06+0.j]\n"
       ]
      }
     ],
     "prompt_number": 1103
    },
    {
     "cell_type": "code",
     "collapsed": false,
     "input": [
      "params = 2.0, 0.5, 0.33, 1.01, 500.0\n",
      "problem = ivp.IVP(credit_cycles, jacobian)\n",
      "problem.f_params = params\n",
      "problem.jac_params = params"
     ],
     "language": "python",
     "metadata": {},
     "outputs": [],
     "prompt_number": 1120
    },
    {
     "cell_type": "code",
     "collapsed": false,
     "input": [
      "initial_condition = np.array([0.99999 * Kstar(*params), Bstar(*params), (params[3] / (params[3] - 1)) * params[0], params[0]])\n",
      "traj = problem.solve(0, initial_condition, h=1e-2, T=200, integrator='lsoda')"
     ],
     "language": "python",
     "metadata": {},
     "outputs": [],
     "prompt_number": 1121
    },
    {
     "cell_type": "code",
     "collapsed": false,
     "input": [
      "traj"
     ],
     "language": "python",
     "metadata": {},
     "outputs": [
      {
       "metadata": {},
       "output_type": "pyout",
       "prompt_number": 1122,
       "text": [
        "array([[  0.00000000e+00,   4.99961536e+02,   9.99933071e+04,\n",
        "          2.02000000e+02,   2.00000000e+00],\n",
        "       [  1.00000000e-02,   4.99956927e+02,   9.99932923e+04,\n",
        "          2.02000012e+02,   1.99750927e+00],\n",
        "       [  2.00000000e-02,   4.99957063e+02,   9.99932722e+04,\n",
        "          2.02000053e+02,   1.99427774e+00],\n",
        "       ..., \n",
        "       [  1.99990000e+02,              nan,              nan,\n",
        "                     nan,              nan],\n",
        "       [  2.00000000e+02,              nan,              nan,\n",
        "                     nan,              nan],\n",
        "       [  2.00010000e+02,              nan,              nan,\n",
        "                     nan,              nan]])"
       ]
      }
     ],
     "prompt_number": 1122
    },
    {
     "cell_type": "code",
     "collapsed": false,
     "input": [
      "plt.plot(traj[:15,0], traj[:15,1])\n",
      "plt.show()"
     ],
     "language": "python",
     "metadata": {},
     "outputs": [
      {
       "metadata": {},
       "output_type": "display_data",
       "png": "[encoded data removed]",
       "text": [
        "<matplotlib.figure.Figure at 0x13559d3d0>"
       ]
      }
     ],
     "prompt_number": 1128
    },
    {
     "cell_type": "code",
     "collapsed": false,
     "input": [
      "plt.plot(traj[:,0], traj[:,2])\n",
      "plt.show()"
     ],
     "language": "python",
     "metadata": {},
     "outputs": [
      {
       "metadata": {},
       "output_type": "display_data",
       "png": "[encoded data removed]",
       "text": [
        "<matplotlib.figure.Figure at 0x139823cd0>"
       ]
      }
     ],
     "prompt_number": 1112
    },
    {
     "cell_type": "code",
     "collapsed": false,
     "input": [
      "plt.plot(traj[:,0], traj[:,3])\n",
      "plt.show()"
     ],
     "language": "python",
     "metadata": {},
     "outputs": [
      {
       "metadata": {},
       "output_type": "display_data",
       "png": "[encoded data removed]",
       "text": [
        "<matplotlib.figure.Figure at 0x13538e850>"
       ]
      }
     ],
     "prompt_number": 1119
    },
    {
     "cell_type": "code",
     "collapsed": false,
     "input": [
      "plt.plot(traj[:,0], traj[:,4])\n",
      "plt.show()"
     ],
     "language": "python",
     "metadata": {},
     "outputs": [
      {
       "metadata": {},
       "output_type": "display_data",
       "png": "[encoded data removed]",
       "text": [
        "<matplotlib.figure.Figure at 0x13ca7c750>"
       ]
      }
     ],
     "prompt_number": 1114
    },
    {
     "cell_type": "code",
     "collapsed": false,
     "input": [
      "problem.successful()"
     ],
     "language": "python",
     "metadata": {},
     "outputs": [
      {
       "metadata": {},
       "output_type": "pyout",
       "prompt_number": 1088,
       "text": [
        "False"
       ]
      }
     ],
     "prompt_number": 1088
    },
    {
     "cell_type": "code",
     "collapsed": false,
     "input": [
      "from scipy import optimize"
     ],
     "language": "python",
     "metadata": {},
     "outputs": [],
     "prompt_number": 606
    },
    {
     "cell_type": "code",
     "collapsed": false,
     "input": [
      "Bstar(1.5, 10, 0.95, 1.01, 100)"
     ],
     "language": "python",
     "metadata": {},
     "outputs": [
      {
       "metadata": {},
       "output_type": "pyout",
       "prompt_number": 624,
       "text": [
        "14999.867471064967"
       ]
      }
     ],
     "prompt_number": 624
    },
    {
     "cell_type": "code",
     "collapsed": false,
     "input": [
      "optimize.root(lambda X: credit_cycles(0, X, *params),\n",
      "              x0=initial_condition,\n",
      "              method='hybr')"
     ],
     "language": "python",
     "metadata": {},
     "outputs": [
      {
       "metadata": {},
       "output_type": "pyout",
       "prompt_number": 674,
       "text": [
        "  status: 5\n",
        " success: False\n",
        "     qtf: array([ 176.20586429,  164.07642329,    1.04059789,   -0.33842923])\n",
        "    nfev: 19\n",
        "       r: array([ nan,  nan,  nan,  nan,  nan,  nan,  nan,  nan,  nan,  nan])\n",
        "     fun: array([-165.04418296, -175.2998186 ,   -1.0605    ,   -0.20803305])\n",
        "       x: array([   8.34761041,  175.2998186 ,    0.        ,    1.05      ])\n",
        " message: 'The iteration is not making good progress, as measured by the \\n  improvement from the last ten iterations.'\n",
        "    fjac: array([[ -9.97838553e-01,  -6.57057743e-02,   6.43314093e-12,\n",
        "         -9.86957767e-04],\n",
        "       [  6.57043249e-02,  -9.97838104e-01,   1.46733257e-10,\n",
        "          1.43553260e-03],\n",
        "       [  5.76367792e-04,  -7.30420116e-04,  -8.45423968e-01,\n",
        "         -5.34094981e-01],\n",
        "       [  9.12336608e-04,  -1.15618684e-03,   5.34095791e-01,\n",
        "         -8.45422685e-01]])"
       ]
      }
     ],
     "prompt_number": 674
    },
    {
     "cell_type": "code",
     "collapsed": false,
     "input": [],
     "language": "python",
     "metadata": {},
     "outputs": [],
     "prompt_number": 625
    },
    {
     "cell_type": "code",
     "collapsed": false,
     "input": [],
     "language": "python",
     "metadata": {},
     "outputs": []
    }
   ],
   "metadata": {}
  }
 ]
}