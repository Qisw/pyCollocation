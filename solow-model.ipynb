{
 "metadata": {
  "name": "",
  "signature": "sha256:fd9a7ed3a193d806398267c7ecb154f71ef94359a3d28be7cf6620787245a61a"
 },
 "nbformat": 3,
 "nbformat_minor": 0,
 "worksheets": [
  {
   "cells": [
    {
     "cell_type": "code",
     "collapsed": false,
     "input": [
      "import sympy as sym\n",
      "import models"
     ],
     "language": "python",
     "metadata": {},
     "outputs": []
    },
    {
     "cell_type": "code",
     "collapsed": false,
     "input": [
      "\n",
      "# define some variables\n",
      "t, k, c = sym.symbols('t, k, c')\n",
      "\n",
      "# define some parameters\n",
      "alpha, sigma = sym.symbols('alpha, sigma')\n",
      "rho, theta = sym.symbols('rho, theta')\n",
      "g, n, s, delta = sym.symbols('g, n, s, delta')\n",
      "\n",
      "# intensive output has the CES form\n",
      "y = (alpha * k**((sigma - 1) / sigma) + (1 - alpha))**(sigma / (sigma - 1))\n",
      "\n",
      "# define the Solow model\n",
      "k_dot = s * y - (g + n + delta) * k\n",
      "rhs = {k: k_dot}\n",
      "\n",
      "# specify some boundary conditions\n",
      "k0 = 1.0\n",
      "bcs = {'lower': [k - k0], 'upper': None}  # hopefully this will work!\n",
      "\n",
      "solow = models.BoundaryValueProblem(dependent_vars=[k],\n",
      "                                    independent_var=t,\n",
      "                                    rhs=rhs,\n",
      "                                    boundary_conditions=bcs)\n",
      "\n",
      "solow_params = {'g': 0.02, 's': 0.1, 'n': 0.02, 'alpha': 0.15, 'sigma': 2.0,\n",
      "                'delta': 0.04}\n",
      "solow_solver = OrthogonalCollocationSolver(solow, solow_params)\n",
      "\n",
      "# specify an initial guess\n",
      "def kstar(g, n, s, alpha, delta, sigma):\n",
      "    rho = (sigma - 1) / sigma\n",
      "    return ((1 - alpha) / (((g + n + delta) / s)**rho - alpha))**(1 / rho)\n",
      "xs = np.linspace(0, 100, 1000)\n",
      "ys = kstar(**solow_params) - (kstar(**solow_params) - k0) * np.exp(-xs)\n",
      "initial_poly = np.polynomial.Chebyshev.fit(xs, ys, 15, [0, 100])\n",
      "initial_solow_coefs = {k: initial_poly.coef}\n",
      "\n",
      "solow_solution = solow_solver.solve(kind=\"Chebyshev\",\n",
      "                                    coefs_dict=initial_solow_coefs,\n",
      "                                    domain=[0, 100])"
     ],
     "language": "python",
     "metadata": {},
     "outputs": []
    }
   ],
   "metadata": {}
  }
 ]
}