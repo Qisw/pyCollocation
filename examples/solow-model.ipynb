{
 "metadata": {
  "name": "",
  "signature": "sha256:fff3cc9683f6c1d9785e6cb836077a02f84ab93cb358e8fd15c0f10c266e18fa"
 },
 "nbformat": 3,
 "nbformat_minor": 0,
 "worksheets": [
  {
   "cells": [
    {
     "cell_type": "code",
     "collapsed": false,
     "input": [
      "%matplotlib inline"
     ],
     "language": "python",
     "metadata": {},
     "outputs": [],
     "prompt_number": 2
    },
    {
     "cell_type": "code",
     "collapsed": false,
     "input": [
      "import numpy as np\n",
      "import sympy as sym\n",
      "\n",
      "import pycollocation"
     ],
     "language": "python",
     "metadata": {},
     "outputs": [
      {
       "ename": "ImportError",
       "evalue": "No module named pycollocation",
       "output_type": "pyerr",
       "traceback": [
        "\u001b[0;31m---------------------------------------------------------------------------\u001b[0m\n\u001b[0;31mImportError\u001b[0m                               Traceback (most recent call last)",
        "\u001b[0;32m<ipython-input-13-fd91228b2fa6>\u001b[0m in \u001b[0;36m<module>\u001b[0;34m()\u001b[0m\n\u001b[1;32m      2\u001b[0m \u001b[0;32mimport\u001b[0m \u001b[0msympy\u001b[0m \u001b[0;32mas\u001b[0m \u001b[0msym\u001b[0m\u001b[0;34m\u001b[0m\u001b[0m\n\u001b[1;32m      3\u001b[0m \u001b[0;34m\u001b[0m\u001b[0m\n\u001b[0;32m----> 4\u001b[0;31m \u001b[0;32mimport\u001b[0m \u001b[0mpycollocation\u001b[0m\u001b[0;34m\u001b[0m\u001b[0m\n\u001b[0m",
        "\u001b[0;31mImportError\u001b[0m: No module named pycollocation"
       ]
      }
     ],
     "prompt_number": 13
    },
    {
     "cell_type": "markdown",
     "metadata": {},
     "source": [
      "<h1> The model </h1>"
     ]
    },
    {
     "cell_type": "code",
     "collapsed": false,
     "input": [
      "# define some variables\n",
      "t, k, c = sym.symbols('t, k, c')\n"
     ],
     "language": "python",
     "metadata": {},
     "outputs": [],
     "prompt_number": 4
    },
    {
     "cell_type": "code",
     "collapsed": false,
     "input": [
      "np.random.uniform?"
     ],
     "language": "python",
     "metadata": {},
     "outputs": [],
     "prompt_number": 7
    },
    {
     "cell_type": "code",
     "collapsed": false,
     "input": [
      "\n",
      "# define some variables\n",
      "t, k, c = sym.symbols('t, k, c')\n",
      "\n",
      "# define some parameters\n",
      "alpha, sigma = sym.symbols('alpha, sigma')\n",
      "rho, theta = sym.symbols('rho, theta')\n",
      "g, n, s, delta = sym.symbols('g, n, s, delta')\n",
      "\n",
      "# intensive output has the CES form\n",
      "y = (alpha * k**((sigma - 1) / sigma) + (1 - alpha))**(sigma / (sigma - 1))\n",
      "\n",
      "# define the Solow model\n",
      "k_dot = s * y - (g + n + delta) * k\n",
      "rhs = {k: k_dot}\n",
      "\n",
      "# specify some boundary conditions\n",
      "k0 = 1.0\n",
      "bcs = {'lower': [k - k0], 'upper': None}  # hopefully this will work!\n",
      "\n",
      "solow = models.BoundaryValueProblem(dependent_vars=[k],\n",
      "                                    independent_var=t,\n",
      "                                    rhs=rhs,\n",
      "                                    boundary_conditions=bcs)\n",
      "\n",
      "solow_params = {'g': 0.02, 's': 0.1, 'n': 0.02, 'alpha': 0.15, 'sigma': 2.0,\n",
      "                'delta': 0.04}\n",
      "solow_solver = orthogonal_collocation.OrthogonalCollocationSolver(solow, solow_params)\n",
      "\n",
      "# specify an initial guess\n",
      "def kstar(g, n, s, alpha, delta, sigma):\n",
      "    rho = (sigma - 1) / sigma\n",
      "    return ((1 - alpha) / (((g + n + delta) / s)**rho - alpha))**(1 / rho)\n",
      "xs = np.linspace(0, 100, 1000)\n",
      "ys = kstar(**solow_params) - (kstar(**solow_params) - k0) * np.exp(-xs)\n",
      "initial_poly = np.polynomial.Chebyshev.fit(xs, ys, 15, [0, 100])\n",
      "initial_solow_coefs = {k: initial_poly.coef}\n",
      "\n",
      "solow_solution = solow_solver.solve(kind=\"Chebyshev\",\n",
      "                                    coefs_dict=initial_solow_coefs,\n",
      "                                    domain=[0, 100])"
     ],
     "language": "python",
     "metadata": {},
     "outputs": [],
     "prompt_number": 3
    },
    {
     "cell_type": "code",
     "collapsed": false,
     "input": [
      "np.allclose?"
     ],
     "language": "python",
     "metadata": {},
     "outputs": [],
     "prompt_number": 12
    },
    {
     "cell_type": "code",
     "collapsed": false,
     "input": [
      "solow_solution.interpolation_knots = np.linspace(0, 100, 1000)\n",
      "solow_solution.residuals.plot()"
     ],
     "language": "python",
     "metadata": {},
     "outputs": [
      {
       "metadata": {},
       "output_type": "pyout",
       "prompt_number": 4,
       "text": [
        "<matplotlib.axes._subplots.AxesSubplot at 0x112b8aa50>"
       ]
      },
      {
       "metadata": {},
       "output_type": "display_data",
       "png": "[encoded data removed]",
       "text": [
        "<matplotlib.figure.Figure at 0x112b8a450>"
       ]
      }
     ],
     "prompt_number": 4
    },
    {
     "cell_type": "code",
     "collapsed": false,
     "input": [],
     "language": "python",
     "metadata": {},
     "outputs": []
    }
   ],
   "metadata": {}
  }
 ]
}