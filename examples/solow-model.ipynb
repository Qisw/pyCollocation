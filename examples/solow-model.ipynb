{
 "cells": [
  {
   "cell_type": "code",
   "execution_count": 1,
   "metadata": {
    "collapsed": true
   },
   "outputs": [],
   "source": [
    "%load_ext autoreload "
   ]
  },
  {
   "cell_type": "code",
   "execution_count": 2,
   "metadata": {
    "collapsed": true
   },
   "outputs": [],
   "source": [
    "autoreload 2"
   ]
  },
  {
   "cell_type": "code",
   "execution_count": 3,
   "metadata": {
    "collapsed": false
   },
   "outputs": [],
   "source": [
    "%matplotlib inline"
   ]
  },
  {
   "cell_type": "code",
   "execution_count": 4,
   "metadata": {
    "collapsed": false
   },
   "outputs": [],
   "source": [
    "import numpy as np\n",
    "import sympy as sym\n",
    "import seaborn as sn\n",
    "\n",
    "import pycollocation"
   ]
  },
  {
   "cell_type": "markdown",
   "metadata": {},
   "source": [
    "<h1> The Solow model </h1>\n",
    "\n",
    "$$ \\dot{k}(t) = s f(k(t)) - (g + n + \\delta) k(t),\\ k(0) = k_0 $$"
   ]
  },
  {
   "cell_type": "code",
   "execution_count": 6,
   "metadata": {
    "collapsed": false
   },
   "outputs": [],
   "source": [
    "class SolowModel(pycollocation.TwoPointBVPLike):\n",
    "    \"\"\"Class representing a Solow growth model.\"\"\"\n",
    "    \n",
    "    def __init__(self, intensive_output):\n",
    "        self._bcs_upper = None\n",
    "        self._bcs_upper_jac = None\n",
    "        self._number_bcs_lower = 1\n",
    "        self._number_odes = 1\n",
    "        self._intensive_output = intensive_output\n",
    "    \n",
    "    @property\n",
    "    def intensive_output(self):\n",
    "        return self._intensive_output\n",
    "    \n",
    "    @staticmethod\n",
    "    def _bcs_lower(t, k, k0, **params):\n",
    "        return [k - k0]\n",
    "    \n",
    "    def _k_dot(self, t, k, delta, g, n, s, **params):\n",
    "        return s * self.intensive_output(k, **params) - (g + n + delta) * k\n",
    "    \n",
    "    def _rhs(self, t, k, delta, g, n, s, **params):\n",
    "        return [self._k_dot(t, k, delta, g, n, s, **params)]\n"
   ]
  },
  {
   "cell_type": "code",
   "execution_count": 7,
   "metadata": {
    "collapsed": true
   },
   "outputs": [],
   "source": [
    "def ces_output(k, alpha, sigma, **params):\n",
    "    rho = (sigma - 1) / sigma\n",
    "    if rho == 0:\n",
    "        y = k**alpha\n",
    "    else:\n",
    "        y = (alpha * k**rho + (1 - alpha))**(1 / rho)\n",
    "    return y"
   ]
  },
  {
   "cell_type": "code",
   "execution_count": 8,
   "metadata": {
    "collapsed": false
   },
   "outputs": [],
   "source": [
    "solow_model = SolowModel(ces_output)"
   ]
  },
  {
   "cell_type": "code",
   "execution_count": 9,
   "metadata": {
    "collapsed": true
   },
   "outputs": [],
   "source": [
    "solver = pycollocation.PolynomialSolver()"
   ]
  },
  {
   "cell_type": "code",
   "execution_count": 10,
   "metadata": {
    "collapsed": false
   },
   "outputs": [],
   "source": [
    "solow_params = {'g': 0.02, 's': 0.1, 'n': 0.02, 'alpha': 0.15, 'sigma': 2.0,\n",
    "                'delta': 0.04, 'k0': 1.0}\n",
    "\n",
    "def steady_state_capital(g, n, s, alpha, delta, sigma, **params):\n",
    "    \"\"\"Steady state value for capital stock (per unit effective labor).\"\"\"\n",
    "    rho = (sigma - 1) / sigma\n",
    "    if rho == 0:\n",
    "        kss = (s / (g + n + delta))**(1 / (1 - alpha))\n",
    "    else:\n",
    "        kss = ((1 - alpha) / (((g + n + delta) / s)**rho - alpha))**(1 / rho)\n",
    "    return kss\n",
    "\n",
    "domain = [0, 100]\n",
    "kstar = steady_state_capital(**solow_params)\n",
    "ts = np.linspace(domain[0], domain[1], 1000)\n",
    "ks = kstar - (kstar - solow_params['k0']) * np.exp(-ts)\n",
    "\n",
    "initial_poly = np.polynomial.Chebyshev.fit(ts, ks, 15, domain)\n",
    "initial_coefs = initial_poly.coef\n"
   ]
  },
  {
   "cell_type": "code",
   "execution_count": 11,
   "metadata": {
    "collapsed": false
   },
   "outputs": [],
   "source": [
    "nodes = solver.collocation_nodes(15, domain, \"Chebyshev\")"
   ]
  },
  {
   "cell_type": "code",
   "execution_count": 12,
   "metadata": {
    "collapsed": false
   },
   "outputs": [],
   "source": [
    "result = solver.solve(initial_coefs, domain, nodes, solow_params, solow_model,\n",
    "                      kind=\"Chebyshev\")"
   ]
  },
  {
   "cell_type": "code",
   "execution_count": 16,
   "metadata": {
    "collapsed": true
   },
   "outputs": [],
   "source": [
    "k_hat, = solver.solution_functions_factory(domain, solow_model, result, kind=\"Chebyshev\")"
   ]
  },
  {
   "cell_type": "code",
   "execution_count": 17,
   "metadata": {
    "collapsed": true
   },
   "outputs": [],
   "source": [
    "import matplotlib.pyplot as plt"
   ]
  },
  {
   "cell_type": "code",
   "execution_count": 18,
   "metadata": {
    "collapsed": false
   },
   "outputs": [
    {
     "data": {
      "text/plain": [
       "[<matplotlib.lines.Line2D at 0x10a891050>]"
      ]
     },
     "execution_count": 18,
     "metadata": {},
     "output_type": "execute_result"
    },
    {
     "data": {
      "image/png": "[encoded data removed]",
      "text/plain": [
       "<matplotlib.figure.Figure at 0x10a737790>"
      ]
     },
     "metadata": {},
     "output_type": "display_data"
    }
   ],
   "source": [
    "ts = np.linspace(0, 100, 1000)\n",
    "plt.plot(ts, k_hat(ts))"
   ]
  },
  {
   "cell_type": "code",
   "execution_count": null,
   "metadata": {
    "collapsed": true
   },
   "outputs": [],
   "source": []
  }
 ],
 "metadata": {
  "kernelspec": {
   "display_name": "Python 2",
   "language": "python",
   "name": "python2"
  },
  "language_info": {
   "codemirror_mode": {
    "name": "ipython",
    "version": 2
   },
   "file_extension": ".py",
   "mimetype": "text/x-python",
   "name": "python",
   "nbconvert_exporter": "python",
   "pygments_lexer": "ipython2",
   "version": "2.7.10"
  }
 },
 "nbformat": 4,
 "nbformat_minor": 0
}
