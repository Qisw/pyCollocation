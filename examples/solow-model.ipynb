{
 "cells": [
  {
   "cell_type": "code",
   "execution_count": 1,
   "metadata": {
    "collapsed": true
   },
   "outputs": [],
   "source": [
    "%load_ext autoreload "
   ]
  },
  {
   "cell_type": "code",
   "execution_count": 2,
   "metadata": {
    "collapsed": true
   },
   "outputs": [],
   "source": [
    "autoreload 2"
   ]
  },
  {
   "cell_type": "code",
   "execution_count": 3,
   "metadata": {
    "collapsed": false
   },
   "outputs": [],
   "source": [
    "%matplotlib inline"
   ]
  },
  {
   "cell_type": "code",
   "execution_count": 4,
   "metadata": {
    "collapsed": false
   },
   "outputs": [],
   "source": [
    "import matplotlib.pyplot as plt\n",
    "import numpy as np\n",
    "import sympy as sym\n",
    "import seaborn as sn\n",
    "\n",
    "import pycollocation"
   ]
  },
  {
   "cell_type": "markdown",
   "metadata": {},
   "source": [
    "<h1> Example: Solow model of economic growth</h1>\n",
    "\n",
    "The Solow model is a model of economic growth as a process of physical capital accumulation. The model reduces down to a single non-linear ordinary differential equation (ODE) and an initial condition...\n",
    "\n",
    "$$ \\dot{k}(t) = s f(k(t)) - (g + n + \\delta) k(t),\\ k(0) = k_0 $$\n",
    "\n",
    "...the above equation says that the rate of change of the stock of physical capital (per unit effective labor supply), $\\dot{k}(t)$, is the difference between the actual level of investment in physical capital, $sf(k(t))$, and the amount of investment required to maintain the current level of physical capital, $(g + n + \\delta) k(t)$.\n"
   ]
  },
  {
   "cell_type": "code",
   "execution_count": 5,
   "metadata": {
    "collapsed": false
   },
   "outputs": [],
   "source": [
    "class SolowModel(pycollocation.IVP):\n",
    "    \"\"\"Class representing a Solow growth model.\"\"\"\n",
    "    \n",
    "    def __new__(cls, intensive_output, mpk, params):\n",
    "        bcs_lower = lambda t, k, k0, **params: [k - k0]\n",
    "        bcs_lower_jac = lambda t, k, **params: 1.0\n",
    "        rhs = cls._rhs_factory(intensive_output)\n",
    "        rhs_jac = cls._rhs_jac_factory(mpk)\n",
    "        return super(SolowModel, cls).__new__(cls, bcs_lower, 1, 1, params,\n",
    "                                              rhs, bcs_lower_jac, rhs_jac)    \n",
    "    @staticmethod\n",
    "    def _equation_motion_capital(t, k, f, delta, g, n, s, **params):\n",
    "        return s * f(k, **params) - (g + n + delta) * k\n",
    "    \n",
    "    @staticmethod\n",
    "    def _solow_model_jac(t, k, mpk, delta, g, n, s, **params):\n",
    "        return s * mpk(k, **params) - (g + n + delta)\n",
    "    \n",
    "    @classmethod\n",
    "    def _rhs_factory(cls, f):\n",
    "        \n",
    "        def rhs(t, k, delta, g, n, s, **params):\n",
    "            return [cls._equation_motion_capital(t, k, f, delta, g, n, s, **params)]\n",
    "        \n",
    "        return rhs\n",
    "    \n",
    "    @classmethod\n",
    "    def _rhs_jac_factory(cls, mpk):\n",
    "        \n",
    "        def rhs_jac(t, k, delta, g, n, s, **params):\n",
    "            return [cls._solow_model_jac(t, k, mpk, delta, g, n, s, **params)]\n",
    "        \n",
    "        return rhs_jac\n"
   ]
  },
  {
   "cell_type": "code",
   "execution_count": 6,
   "metadata": {
    "collapsed": true
   },
   "outputs": [],
   "source": [
    "def ces_output(k, alpha, sigma, **params):\n",
    "    rho = (sigma - 1) / sigma\n",
    "    if rho == 0:\n",
    "        y = k**alpha\n",
    "    else:\n",
    "        y = (alpha * k**rho + (1 - alpha))**(1 / rho)\n",
    "    return y\n",
    "\n",
    "\n",
    "def ces_mpk(k, alpha, sigma, **params):\n",
    "    rho = (sigma - 1) / sigma\n",
    "    if rho == 0:\n",
    "        mpk = alpha * k**(alpha - 1)\n",
    "    else:\n",
    "        y = ces_output(k, alpha, sigma, **params)\n",
    "        mpk = alpha * k**(rho - 1) * (y / (alpha * k**rho + (1 - alpha)))\n",
    "    return mpk"
   ]
  },
  {
   "cell_type": "code",
   "execution_count": 7,
   "metadata": {
    "collapsed": false
   },
   "outputs": [],
   "source": [
    "solow_params = {'g': 0.02, 's': 0.1, 'n': 0.02, 'alpha': 0.15, 'sigma': 2.0,\n",
    "                'delta': 0.04, 'k0': 1.0}"
   ]
  },
  {
   "cell_type": "markdown",
   "metadata": {},
   "source": [
    "We need to come up with some decent initial guess for the initial coefficients..."
   ]
  },
  {
   "cell_type": "code",
   "execution_count": 8,
   "metadata": {
    "collapsed": false
   },
   "outputs": [],
   "source": [
    "def steady_state_capital(g, n, s, alpha, delta, sigma, **params):\n",
    "    \"\"\"Steady state value for capital stock (per unit effective labor).\"\"\"\n",
    "    rho = (sigma - 1) / sigma\n",
    "    if rho == 0:\n",
    "        kss = (s / (g + n + delta))**(1 / (1 - alpha))\n",
    "    else:\n",
    "        kss = ((1 - alpha) / (((g + n + delta) / s)**rho - alpha))**(1 / rho)\n",
    "    return kss\n",
    "\n",
    "domain = [0, 100]\n",
    "kstar = steady_state_capital(**solow_params)\n",
    "ts = np.linspace(domain[0], domain[1], 1000)\n",
    "ks = kstar - (kstar - solow_params['k0']) * np.exp(-ts)\n",
    "\n",
    "initial_poly = np.polynomial.Chebyshev.fit(ts, ks, 15, domain)\n",
    "initial_coefs = initial_poly.coef\n"
   ]
  },
  {
   "cell_type": "code",
   "execution_count": 9,
   "metadata": {
    "collapsed": false
   },
   "outputs": [],
   "source": [
    "nodes = pycollocation.PolynomialSolver.collocation_nodes(15, domain, \"Chebyshev\")"
   ]
  },
  {
   "cell_type": "code",
   "execution_count": 10,
   "metadata": {
    "collapsed": false
   },
   "outputs": [],
   "source": [
    "solow_model = SolowModel(ces_output, ces_mpk, solow_params)\n",
    "solution = pycollocation.PolynomialSolver.solve({'kind': 'Chebyshev'},\n",
    "                                                initial_coefs,\n",
    "                                                domain,\n",
    "                                                nodes,\n",
    "                                                solow_model)"
   ]
  },
  {
   "cell_type": "code",
   "execution_count": 11,
   "metadata": {
    "collapsed": true
   },
   "outputs": [],
   "source": [
    "k_hat, = solution.functions"
   ]
  },
  {
   "cell_type": "code",
   "execution_count": 12,
   "metadata": {
    "collapsed": false
   },
   "outputs": [
    {
     "data": {
      "text/plain": [
       "[<matplotlib.lines.Line2D at 0x10a6c1e50>]"
      ]
     },
     "execution_count": 12,
     "metadata": {},
     "output_type": "execute_result"
    },
    {
     "data": {
      "image/png": "[encoded data removed]",
      "text/plain": [
       "<matplotlib.figure.Figure at 0x10a630590>"
      ]
     },
     "metadata": {},
     "output_type": "display_data"
    }
   ],
   "source": [
    "ts = np.linspace(0, 100, 1000)\n",
    "plt.plot(ts, k_hat(ts))"
   ]
  },
  {
   "cell_type": "code",
   "execution_count": 13,
   "metadata": {
    "collapsed": false
   },
   "outputs": [
    {
     "data": {
      "text/plain": [
       "[<matplotlib.lines.Line2D at 0x10a87a250>]"
      ]
     },
     "execution_count": 13,
     "metadata": {},
     "output_type": "execute_result"
    },
    {
     "data": {
      "image/png": "[encoded data removed]",
      "text/plain": [
       "<matplotlib.figure.Figure at 0x10a71f910>"
      ]
     },
     "metadata": {},
     "output_type": "display_data"
    }
   ],
   "source": [
    "k_resids, = solution.residuals(ts)\n",
    "plt.plot(ts, k_resids)"
   ]
  },
  {
   "cell_type": "code",
   "execution_count": null,
   "metadata": {
    "collapsed": true
   },
   "outputs": [],
   "source": []
  }
 ],
 "metadata": {
  "kernelspec": {
   "display_name": "Python 2",
   "language": "python",
   "name": "python2"
  },
  "language_info": {
   "codemirror_mode": {
    "name": "ipython",
    "version": 2
   },
   "file_extension": ".py",
   "mimetype": "text/x-python",
   "name": "python",
   "nbconvert_exporter": "python",
   "pygments_lexer": "ipython2",
   "version": "2.7.10"
  }
 },
 "nbformat": 4,
 "nbformat_minor": 0
}
