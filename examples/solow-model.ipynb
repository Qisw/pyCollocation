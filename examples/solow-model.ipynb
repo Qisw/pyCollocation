{
 "cells": [
  {
   "cell_type": "code",
   "execution_count": 1,
   "metadata": {
    "collapsed": true
   },
   "outputs": [],
   "source": [
    "%load_ext autoreload "
   ]
  },
  {
   "cell_type": "code",
   "execution_count": 2,
   "metadata": {
    "collapsed": true
   },
   "outputs": [],
   "source": [
    "autoreload 2"
   ]
  },
  {
   "cell_type": "code",
   "execution_count": 3,
   "metadata": {
    "collapsed": false
   },
   "outputs": [],
   "source": [
    "%matplotlib inline"
   ]
  },
  {
   "cell_type": "code",
   "execution_count": 4,
   "metadata": {
    "collapsed": false
   },
   "outputs": [],
   "source": [
    "import numpy as np\n",
    "import sympy as sym\n",
    "import seaborn as sn\n",
    "\n",
    "import pycollocation"
   ]
  },
  {
   "cell_type": "markdown",
   "metadata": {},
   "source": [
    "<h1> The Solow model </h1>\n",
    "\n",
    "$$ \\dot{k}(t) = s f(k(t)) - (g + n + \\delta) k(t),\\ k(0) = k_0 $$"
   ]
  },
  {
   "cell_type": "code",
   "execution_count": 5,
   "metadata": {
    "collapsed": false
   },
   "outputs": [],
   "source": [
    "# define some variables\n",
    "t, k, c = sym.symbols('t, k, c')\n",
    "\n",
    "# define some parameters\n",
    "alpha, sigma = sym.symbols('alpha, sigma')\n",
    "rho, theta = sym.symbols('rho, theta')\n",
    "g, n, s, delta = sym.symbols('g, n, s, delta')"
   ]
  },
  {
   "cell_type": "code",
   "execution_count": 6,
   "metadata": {
    "collapsed": false
   },
   "outputs": [],
   "source": [
    "def intensive_output(k, alpha, sigma, **params):\n",
    "    rho = (sigma - 1) / sigma\n",
    "    if rho == 0:\n",
    "        y = k**alpha\n",
    "    else:\n",
    "        y = (alpha * k**rho + (1 - alpha))**(1 / rho)\n",
    "    return y\n",
    "\n",
    "def rhs(t, k, delta, g, n, s, **params):\n",
    "    return [s * intensive_output(k, **params) - (g + n + delta) * k]\n",
    "\n",
    "def bcs_lower(t, k, k0, **params):\n",
    "    return [k - k0]\n",
    "\n",
    "solow_params = {'g': 0.02, 's': 0.1, 'n': 0.02, 'alpha': 0.15, 'sigma': 2.0,\n",
    "                'delta': 0.04, 'k0': 1.0}"
   ]
  },
  {
   "cell_type": "code",
   "execution_count": null,
   "metadata": {
    "collapsed": true
   },
   "outputs": [],
   "source": []
  },
  {
   "cell_type": "code",
   "execution_count": 7,
   "metadata": {
    "collapsed": false
   },
   "outputs": [],
   "source": [
    "solow_model = pycollocation.IVP(bcs_lower=bcs_lower,\n",
    "                                number_bcs_lower=1,\n",
    "                                number_odes=1,\n",
    "                                rhs=rhs)"
   ]
  },
  {
   "cell_type": "code",
   "execution_count": 8,
   "metadata": {
    "collapsed": true
   },
   "outputs": [],
   "source": [
    "solver = pycollocation.PolynomialSolver()"
   ]
  },
  {
   "cell_type": "code",
   "execution_count": 9,
   "metadata": {
    "collapsed": false
   },
   "outputs": [],
   "source": [
    "def steady_state_capital(g, n, s, alpha, delta, sigma, **params):\n",
    "    \"\"\"Steady state value for capital stock (per unit effective labor).\"\"\"\n",
    "    rho = (sigma - 1) / sigma\n",
    "    if rho == 0:\n",
    "        kss = (s / (g + n + delta))**(1 / (1 - alpha))\n",
    "    else:\n",
    "        kss = ((1 - alpha) / (((g + n + delta) / s)**rho - alpha))**(1 / rho)\n",
    "    return kss\n",
    "\n",
    "domain = [0, 100]\n",
    "kstar = steady_state_capital(**solow_params)\n",
    "ts = np.linspace(domain[0], domain[1], 1000)\n",
    "ks = kstar - (kstar - solow_params['k0']) * np.exp(-ts)\n",
    "\n",
    "initial_poly = np.polynomial.Chebyshev.fit(ts, ks, 15, domain)\n",
    "initial_coefs = initial_poly.coef\n"
   ]
  },
  {
   "cell_type": "code",
   "execution_count": 10,
   "metadata": {
    "collapsed": false
   },
   "outputs": [],
   "source": [
    "nodes = solver.collocation_nodes(15, domain, \"Chebyshev\")"
   ]
  },
  {
   "cell_type": "code",
   "execution_count": 11,
   "metadata": {
    "collapsed": false
   },
   "outputs": [],
   "source": [
    "k_hat, = solver.solve(initial_coefs, domain, nodes, solow_params, solow_model, kind=\"Chebyshev\")"
   ]
  },
  {
   "cell_type": "code",
   "execution_count": 12,
   "metadata": {
    "collapsed": true
   },
   "outputs": [],
   "source": [
    "import matplotlib.pyplot as plt"
   ]
  },
  {
   "cell_type": "code",
   "execution_count": 13,
   "metadata": {
    "collapsed": false
   },
   "outputs": [
    {
     "data": {
      "text/plain": [
       "[<matplotlib.lines.Line2D at 0x10a6d8410>]"
      ]
     },
     "execution_count": 13,
     "metadata": {},
     "output_type": "execute_result"
    },
    {
     "data": {
      "image/png": "[encoded data removed]",
      "text/plain": [
       "<matplotlib.figure.Figure at 0x10a630790>"
      ]
     },
     "metadata": {},
     "output_type": "display_data"
    }
   ],
   "source": [
    "ts = np.linspace(0, 100, 1000)\n",
    "plt.plot(ts, k_hat(ts))"
   ]
  },
  {
   "cell_type": "code",
   "execution_count": 5,
   "metadata": {
    "collapsed": false
   },
   "outputs": [],
   "source": [
    "solow = pycollocation.SymbolicBoundaryValueProblem(dependent_vars=['k'],\n",
    "                                                   independent_var='t',\n",
    "                                                   rhs=rhs,\n",
    "                                                   boundary_conditions=bcs,\n",
    "                                                   params=solow_params)"
   ]
  },
  {
   "cell_type": "code",
   "execution_count": 6,
   "metadata": {
    "collapsed": false
   },
   "outputs": [],
   "source": [
    "solow_solver = pycollocation.OrthogonalPolynomialSolver(solow)"
   ]
  },
  {
   "cell_type": "code",
   "execution_count": 7,
   "metadata": {
    "collapsed": false
   },
   "outputs": [],
   "source": []
  },
  {
   "cell_type": "code",
   "execution_count": 8,
   "metadata": {
    "collapsed": true
   },
   "outputs": [],
   "source": [
    "solow_solver.solve(kind=\"Chebyshev\",\n",
    "                   coefs_dict=initial_coefs,\n",
    "                   domain=domain)"
   ]
  },
  {
   "cell_type": "code",
   "execution_count": 9,
   "metadata": {
    "collapsed": false
   },
   "outputs": [],
   "source": [
    "solow_viz = pycollocation.Visualizer(solow_solver)"
   ]
  },
  {
   "cell_type": "code",
   "execution_count": 10,
   "metadata": {
    "collapsed": false
   },
   "outputs": [
    {
     "data": {
      "text/plain": [
       "<matplotlib.axes._subplots.AxesSubplot at 0x10a15b3d0>"
      ]
     },
     "execution_count": 10,
     "metadata": {},
     "output_type": "execute_result"
    },
    {
     "data": {
      "image/png": "[encoded data removed]",
      "text/plain": [
       "<matplotlib.figure.Figure at 0x10a15b090>"
      ]
     },
     "metadata": {},
     "output_type": "display_data"
    }
   ],
   "source": [
    "solow_viz.interpolation_knots = np.linspace(0, 100, 1000)\n",
    "solow_viz.residuals.plot()"
   ]
  },
  {
   "cell_type": "code",
   "execution_count": 11,
   "metadata": {
    "collapsed": false
   },
   "outputs": [
    {
     "data": {
      "text/plain": [
       "<matplotlib.axes._subplots.AxesSubplot at 0x10a382650>"
      ]
     },
     "execution_count": 11,
     "metadata": {},
     "output_type": "execute_result"
    },
    {
     "data": {
      "image/png": "[encoded data removed]",
      "text/plain": [
       "<matplotlib.figure.Figure at 0x10a38a810>"
      ]
     },
     "metadata": {},
     "output_type": "display_data"
    }
   ],
   "source": [
    "solow_viz.solution.plot()"
   ]
  },
  {
   "cell_type": "code",
   "execution_count": null,
   "metadata": {
    "collapsed": true
   },
   "outputs": [],
   "source": []
  }
 ],
 "metadata": {
  "kernelspec": {
   "display_name": "Python 2",
   "language": "python",
   "name": "python2"
  },
  "language_info": {
   "codemirror_mode": {
    "name": "ipython",
    "version": 2
   },
   "file_extension": ".py",
   "mimetype": "text/x-python",
   "name": "python",
   "nbconvert_exporter": "python",
   "pygments_lexer": "ipython2",
   "version": "2.7.10"
  }
 },
 "nbformat": 4,
 "nbformat_minor": 0
}
