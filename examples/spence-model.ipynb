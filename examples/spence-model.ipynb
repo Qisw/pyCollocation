{
 "metadata": {
  "name": "",
  "signature": "sha256:2e71b866644c9cb37da1a27d7121adef41173f1de6a8555f4e441f88a26f5aa0"
 },
 "nbformat": 3,
 "nbformat_minor": 0,
 "worksheets": [
  {
   "cells": [
    {
     "cell_type": "code",
     "collapsed": false,
     "input": [
      "%matplotlib inline"
     ],
     "language": "python",
     "metadata": {},
     "outputs": [],
     "prompt_number": 1
    },
    {
     "cell_type": "code",
     "collapsed": false,
     "input": [
      "import numpy as np\n",
      "import sympy as sym\n",
      "import seaborn as sn\n",
      "\n",
      "import models\n",
      "import orthogonal_collocation"
     ],
     "language": "python",
     "metadata": {},
     "outputs": [],
     "prompt_number": 2
    },
    {
     "cell_type": "code",
     "collapsed": false,
     "input": [
      "# define some variables\n",
      "y, n = sym.symbols('y, n')\n",
      "\n",
      "# specify some parameters\n",
      "alpha= sym.symbols('alpha')\n",
      "\n",
      "# define the model\n",
      "n_dot = (n**-1 - alpha * n * y**(alpha - 1)) / y**alpha \n",
      "rhs = {n: n_dot}\n",
      "\n",
      "# define some boundary conditions\n",
      "nL = 1.0\n",
      "yL = (nL**2 * alpha)**(1 / (1 - alpha))\n",
      "yU = 1e2\n",
      "\n",
      "bcs = {'lower': [y - yL], 'upper': None}\n",
      "\n",
      "spence = models.BoundaryValueProblem(dependent_vars=[n],\n",
      "                                     independent_var=y,\n",
      "                                     rhs=rhs,\n",
      "                                     boundary_conditions=bcs)\n",
      "\n",
      "spence_params = {'alpha': 0.15}\n",
      "\n",
      "spence_solver = orthogonal_collocation.OrthogonalCollocationSolver(spence, spence_params)"
     ],
     "language": "python",
     "metadata": {},
     "outputs": [],
     "prompt_number": 3
    },
    {
     "cell_type": "code",
     "collapsed": false,
     "input": [
      "domain = [float(yL.evalf(subs=spence_params)), yU]\n",
      "ys = np.linspace(domain[0], domain[1], 1000)\n",
      "ns = ys**0.5  # guess some generic concave function\n",
      "initial_type_poly = np.polynomial.Chebyshev.fit(ys, ns, 150, domain)\n",
      "\n",
      "initial_spence_coefs = {n: initial_type_poly.coef}"
     ],
     "language": "python",
     "metadata": {},
     "outputs": [],
     "prompt_number": 4
    },
    {
     "cell_type": "code",
     "collapsed": false,
     "input": [
      "spence_solution = spence_solver.solve(kind=\"Chebyshev\",\n",
      "                                      coefs_dict=initial_spence_coefs,\n",
      "                                      domain=domain)\n"
     ],
     "language": "python",
     "metadata": {},
     "outputs": [],
     "prompt_number": 5
    },
    {
     "cell_type": "code",
     "collapsed": false,
     "input": [
      "spence_solution.interpolation_knots = np.linspace(domain[0], domain[1], 1000)\n",
      "spence_solution.solution.plot()"
     ],
     "language": "python",
     "metadata": {},
     "outputs": [
      {
       "metadata": {},
       "output_type": "pyout",
       "prompt_number": 6,
       "text": [
        "<matplotlib.axes._subplots.AxesSubplot at 0x1134fb090>"
       ]
      },
      {
       "metadata": {},
       "output_type": "display_data",
       "png": "[encoded data removed]",
       "text": [
        "<matplotlib.figure.Figure at 0x1134a7e50>"
       ]
      }
     ],
     "prompt_number": 6
    },
    {
     "cell_type": "code",
     "collapsed": false,
     "input": [
      "spence_solution.residuals.plot()\n"
     ],
     "language": "python",
     "metadata": {},
     "outputs": [
      {
       "metadata": {},
       "output_type": "pyout",
       "prompt_number": 7,
       "text": [
        "<matplotlib.axes._subplots.AxesSubplot at 0x113ef9790>"
       ]
      },
      {
       "metadata": {},
       "output_type": "display_data",
       "png": "[encoded data removed]",
       "text": [
        "<matplotlib.figure.Figure at 0x1091a7550>"
       ]
      }
     ],
     "prompt_number": 7
    },
    {
     "cell_type": "code",
     "collapsed": false,
     "input": [
      "def spence_analytic_solution(y, nL, yL, alpha):\n",
      "    \"\"\"\n",
      "    Analytic solution to the differential equation describing the signaling\n",
      "    equilbrium of the Spence (1974) model.\n",
      "    \n",
      "    \"\"\"    \n",
      "    # compute analytic solution for worker type given y\n",
      "    D = ((1 + alpha) / 2) * (nL / yL**-alpha)**2 - yL**(1 + alpha)\n",
      "    return y**(-alpha) * (2 * (y**(1 + alpha) + D) / (1 + alpha))**0.5"
     ],
     "language": "python",
     "metadata": {},
     "outputs": [],
     "prompt_number": 106
    }
   ],
   "metadata": {}
  }
 ]
}