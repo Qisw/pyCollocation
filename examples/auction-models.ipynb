{
 "cells": [
  {
   "cell_type": "code",
   "execution_count": 1,
   "metadata": {
    "collapsed": true
   },
   "outputs": [],
   "source": [
    "%load_ext autoreload"
   ]
  },
  {
   "cell_type": "code",
   "execution_count": 2,
   "metadata": {
    "collapsed": true
   },
   "outputs": [],
   "source": [
    "%autoreload 2"
   ]
  },
  {
   "cell_type": "code",
   "execution_count": 3,
   "metadata": {
    "collapsed": false
   },
   "outputs": [],
   "source": [
    "%matplotlib inline"
   ]
  },
  {
   "cell_type": "code",
   "execution_count": 4,
   "metadata": {
    "collapsed": false
   },
   "outputs": [],
   "source": [
    "import matplotlib.pyplot as plt\n",
    "import numpy as np\n",
    "from scipy import stats\n",
    "import seaborn as sn\n",
    "\n",
    "import pycollocation"
   ]
  },
  {
   "cell_type": "markdown",
   "metadata": {},
   "source": [
    "<h2>Example: Symmetric IPVP</h2>\n",
    "\n",
    "After a bit of algebra, see <a href=\"https://github.com/davidrpugh/zice-2014/blob/master/solving-auctions/Hubbard%20and%20Paarsch%20(2013).pdf\">Hubbard and Parsch (2013)</a> for details, all Symmetric Independent Private Values Paradigm (IPVP) models can be reduced down to a single non-linear ordinary differential equation (ODE) and an initial condition describing the behavior of the equilibrium bidding function $\\sigma(v)$...\n",
    "\n",
    "$$\\sigma'(v) = \\frac{(N - 1)vf(v)}{F(v)} - \\frac{\\sigma(v)(N-1)f(v)}{F(v)},\\ \\sigma(\\underline{v}) = \\underline{v} $$\n",
    "\n",
    "...where $f$ and $F$ are the probability density function and the cumulative distribution function, respectively, for the valuations and $N$ is the number of bidders. "
   ]
  },
  {
   "cell_type": "code",
   "execution_count": 5,
   "metadata": {
    "collapsed": true
   },
   "outputs": [],
   "source": [
    "import functools\n",
    "\n",
    "\n",
    "class SymmetricIPVPModel(pycollocation.problems.IVP):\n",
    "    \n",
    "    def __init__(self, f, F, params):\n",
    "        rhs = self._rhs_factory(f, F)\n",
    "        super(SymmetricIPVPModel, self).__init__(self._initial_condition, 1, 1, params, rhs)\n",
    "        \n",
    "    @staticmethod\n",
    "    def _initial_condition(v, sigma, v_lower, **params):\n",
    "        return [sigma - v_lower]\n",
    "    \n",
    "    @staticmethod\n",
    "    def _symmetric_ipvp_model(v, sigma, f, F, N, **params):\n",
    "        return [(((N - 1) * f(v, **params)) / F(v, **params)) * (v - sigma)]\n",
    "    \n",
    "    @classmethod\n",
    "    def _rhs_factory(cls, f, F):\n",
    "        return functools.partial(cls._symmetric_ipvp_model, f=f, F=F)\n"
   ]
  },
  {
   "cell_type": "code",
   "execution_count": 6,
   "metadata": {
    "collapsed": true
   },
   "outputs": [],
   "source": [
    "def valuation_cdf(v, v_lower, v_upper, **params):\n",
    "    return stats.uniform.cdf(v, v_lower, v_upper - v_lower)\n",
    "\n",
    "def valuation_pdf(v, v_lower, v_upper, **params):\n",
    "    return stats.uniform.pdf(v, v_lower, v_upper - v_lower)\n"
   ]
  },
  {
   "cell_type": "code",
   "execution_count": 7,
   "metadata": {
    "collapsed": false
   },
   "outputs": [],
   "source": [
    "params = {'v_lower': 1.0, 'v_upper': 2.0, 'N': 10}\n",
    "symmetric_ipvp_ivp = SymmetricIPVPModel(valuation_pdf, valuation_cdf, params)"
   ]
  },
  {
   "cell_type": "markdown",
   "metadata": {},
   "source": [
    "<h2>Solving the model with pyCollocation</h2>"
   ]
  },
  {
   "cell_type": "markdown",
   "metadata": {},
   "source": [
    "### Finding a good initial guess for $\\sigma(v)$\n",
    "\n",
    "Theory tells us that bidding function should be monotonically increasing in the valuation? Higher valuations lead to higher bids?"
   ]
  },
  {
   "cell_type": "code",
   "execution_count": 8,
   "metadata": {
    "collapsed": false
   },
   "outputs": [],
   "source": [
    "def initial_mesh(domain, num, problem):\n",
    "    \"\"\"Guess that all participants bid their true valuations.\"\"\"\n",
    "    vs = np.linspace(domain[0], domain[1], num=num)\n",
    "    return vs, vs\n"
   ]
  },
  {
   "cell_type": "markdown",
   "metadata": {},
   "source": [
    "### Solving the model"
   ]
  },
  {
   "cell_type": "code",
   "execution_count": 9,
   "metadata": {
    "collapsed": true
   },
   "outputs": [],
   "source": [
    "pycollocation.solvers.LeastSquaresSolver?"
   ]
  },
  {
   "cell_type": "code",
   "execution_count": 39,
   "metadata": {
    "collapsed": false
   },
   "outputs": [],
   "source": [
    "domain = [symmetric_ipvp_ivp.params['v_lower'], symmetric_ipvp_ivp.params['v_upper']]\n",
    "polynomial_basis = pycollocation.basis_functions.PolynomialBasis()\n",
    "solver = pycollocation.solvers.LeastSquaresSolver(polynomial_basis)\n",
    "\n",
    "basis_kwargs = {'kind': 'Chebyshev', 'domain': domain, 'degree': 1}\n",
    "\n",
    "vs, sigmas = initial_mesh(basis_kwargs['domain'], 1000, symmetric_ipvp_ivp)\n",
    "sigma_poly = polynomial_basis.fit(vs, sigmas, **basis_kwargs)\n",
    "initial_coefs = sigma_poly.coef\n",
    "\n",
    "solution = solver.solve(basis_kwargs, initial_coefs, symmetric_ipvp_ivp,\n",
    "                        method='bfgs', options={'gtol': 1e-6, 'eps': 1e-9})\n"
   ]
  },
  {
   "cell_type": "code",
   "execution_count": 40,
   "metadata": {
    "collapsed": false
   },
   "outputs": [
    {
     "data": {
      "text/plain": [
       "   status: 0\n",
       "  success: True\n",
       "     njev: 5\n",
       "     nfev: 20\n",
       " hess_inv: array([[ 0.0125, -0.0875],\n",
       "       [-0.0875,  0.8125]])\n",
       "      fun: 1.4407196908616929e-16\n",
       "        x: array([ 1.45      ,  0.45000001])\n",
       "  message: 'Optimization terminated successfully.'\n",
       "      jac: array([ -2.07871515e-11,   9.54361136e-10])\n",
       "      nit: 3"
      ]
     },
     "execution_count": 40,
     "metadata": {},
     "output_type": "execute_result"
    }
   ],
   "source": [
    "solution.result"
   ]
  },
  {
   "cell_type": "code",
   "execution_count": 41,
   "metadata": {
    "collapsed": false
   },
   "outputs": [
    {
     "data": {
      "image/png": "[encoded data removed]",
      "text/plain": [
       "<matplotlib.figure.Figure at 0x10a9e9590>"
      ]
     },
     "metadata": {},
     "output_type": "display_data"
    }
   ],
   "source": [
    "sigma_soln, = solution.evaluate_solution(vs)\n",
    "plt.plot(vs, sigma_soln)\n",
    "plt.show()"
   ]
  },
  {
   "cell_type": "code",
   "execution_count": 42,
   "metadata": {
    "collapsed": false
   },
   "outputs": [
    {
     "data": {
      "image/png": "[encoded data removed]",
      "text/plain": [
       "<matplotlib.figure.Figure at 0x109ed4e10>"
      ]
     },
     "metadata": {},
     "output_type": "display_data"
    }
   ],
   "source": [
    "sigma_resids, = solution.evaluate_residual(vs)\n",
    "plt.plot(vs, sigma_resids)\n",
    "plt.show()"
   ]
  },
  {
   "cell_type": "code",
   "execution_count": 43,
   "metadata": {
    "collapsed": false
   },
   "outputs": [
    {
     "data": {
      "image/png": "[encoded data removed]",
      "text/plain": [
       "<matplotlib.figure.Figure at 0x10a96fb90>"
      ]
     },
     "metadata": {},
     "output_type": "display_data"
    }
   ],
   "source": [
    "sigma_normalized_resids, = solution.normalize_residuals(vs)\n",
    "plt.plot(vs, np.abs(sigma_normalized_resids))\n",
    "plt.yscale('log')\n",
    "plt.show()"
   ]
  },
  {
   "cell_type": "code",
   "execution_count": 69,
   "metadata": {
    "collapsed": false
   },
   "outputs": [],
   "source": [
    "def analytic_solution(v, N, v_lower, v_upper, **params):\n",
    "    \"\"\"\n",
    "    Solution for symmetric IVPVP auction with uniform valuations.\n",
    "    \n",
    "    Notes\n",
    "    -----\n",
    "    There is a generic closed form solution for this class of auctions.\n",
    "    Annoyingly it involves integrating a function of the cumulative\n",
    "    distribution function for valuations.\n",
    "\n",
    "    \"\"\"\n",
    "    return v - (1.0 / N) * valuation_cdf(v, v_lower, v_upper)"
   ]
  },
  {
   "cell_type": "code",
   "execution_count": 70,
   "metadata": {
    "collapsed": false
   },
   "outputs": [
    {
     "data": {
      "image/png": "[encoded data removed]",
      "text/plain": [
       "<matplotlib.figure.Figure at 0x10ac8fd10>"
      ]
     },
     "metadata": {},
     "output_type": "display_data"
    }
   ],
   "source": [
    "plt.plot(vs, analytic_solution(vs, **symmetric_ipvp_ivp.params))\n",
    "plt.plot(vs, sigma_soln)\n",
    "plt.show()"
   ]
  },
  {
   "cell_type": "markdown",
   "metadata": {},
   "source": [
    "<h2>Example: Asymmetric IPVP</h2>\n",
    "\n",
    "After a bit of algebra, see <a href=\"https://github.com/davidrpugh/zice-2014/blob/master/solving-auctions/Hubbard%20and%20Paarsch%20(2013).pdf\">Hubbard and Parsch (2013)</a> for details, all Asymmetric Independent Private Values Paradigm (IPVP) models can be reduced down to a system of non-linear ordinary differential equations (ODEs) and associated boundary conditions...\n",
    "\n",
    "\\begin{align}\n",
    "    \\phi'(s) =& \\frac{F_n(\\phi_n(s))}{f_n(\\phi_n(s))}\\Bigg[\\frac{1}{N-1}\\sum_{m=1}^N \\frac{1}{\\phi_m(s) - s} - \\frac{1}{\\phi_n(s)}\\Bigg] \\ \\forall n=1,\\dots,N \\\\\n",
    "    \\phi(\\underline{s}) =& \\underline{v}\\ \\forall n=1,\\dots,N \\\\\n",
    "    \\phi(\\overline{s}) = & \\overline{v}\\ \\forall n=1,\\dots,N\n",
    "\\end{align}\n",
    "\n",
    "...where $f_n$ and $F_n$ are the probability density function and the cumulative distribution function, respectively, for the valuation of bidder $n$ and $N$ is the number of bidders. "
   ]
  },
  {
   "cell_type": "code",
   "execution_count": 75,
   "metadata": {
    "collapsed": true
   },
   "outputs": [],
   "source": [
    "def rhs_bidder_n(n, s, phis, f, F, N, **params):\n",
    "    A = (F(phis[n], **params) / f(phis[n], **params))\n",
    "    B = ((1 / (N - 1)) * sum(1 / (phi(s) - s) for phi in phis) - (1 / phis[n]))\n",
    "    return A * B"
   ]
  },
  {
   "cell_type": "code",
   "execution_count": 76,
   "metadata": {
    "collapsed": false
   },
   "outputs": [
    {
     "ename": "SyntaxError",
     "evalue": "invalid syntax (<ipython-input-76-ea9c9b17a7c9>, line 1)",
     "output_type": "error",
     "traceback": [
      "\u001b[0;36m  File \u001b[0;32m\"<ipython-input-76-ea9c9b17a7c9>\"\u001b[0;36m, line \u001b[0;32m1\u001b[0m\n\u001b[0;31m    def asymmetric_ipvp_model(s, *phis, fs=None, Fs=None, N=2, **params):\u001b[0m\n\u001b[0m                                         ^\u001b[0m\n\u001b[0;31mSyntaxError\u001b[0m\u001b[0;31m:\u001b[0m invalid syntax\n"
     ]
    }
   ],
   "source": [
    "def asymmetric_ipvp_model(s, *phis, fs=None, Fs=None, N=2, **params):\n",
    "    return [rhs_bidder(n, s, phi, f, F, N, **params) for phi, f, F in zip(phis, fs, Fs)]"
   ]
  },
  {
   "cell_type": "markdown",
   "metadata": {},
   "source": [
    "To be continued...solving this model will require:\n",
    "\n",
    "1. the ability to specify a free boundary condition\n",
    "2. the ability to solver over-determined systems"
   ]
  },
  {
   "cell_type": "code",
   "execution_count": null,
   "metadata": {
    "collapsed": true
   },
   "outputs": [],
   "source": []
  }
 ],
 "metadata": {
  "kernelspec": {
   "display_name": "Python 2",
   "language": "python",
   "name": "python2"
  },
  "language_info": {
   "codemirror_mode": {
    "name": "ipython",
    "version": 2
   },
   "file_extension": ".py",
   "mimetype": "text/x-python",
   "name": "python",
   "nbconvert_exporter": "python",
   "pygments_lexer": "ipython2",
   "version": "2.7.10"
  }
 },
 "nbformat": 4,
 "nbformat_minor": 0
}
